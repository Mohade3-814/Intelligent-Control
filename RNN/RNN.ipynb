{
 "cells": [
  {
   "cell_type": "code",
   "execution_count": 1,
   "metadata": {},
   "outputs": [],
   "source": [
    "import numpy as np\n",
    "from scipy.integrate import solve_ivp\n",
    "import matplotlib.pyplot as plt\n",
    "\n",
    "class ReactorsInSeries_:\n",
    "    def __init__(self, k1, k2, k3, F0, V1, V2, V3):\n",
    "        self.k1 = k1  # Reaction rate constant for reactor 1\n",
    "        self.k2 = k2  # Reaction rate constant for reactor 2\n",
    "        self.k3 = k3  # Reaction rate constant for reactor 3\n",
    "        self.F0 = F0  # Inlet feed flow rate\n",
    "        self.V1 = V1  # Volume of reactor 1\n",
    "        self.V2 = V2  # Volume of reactor 2\n",
    "        self.V3 = V3  # Volume of reactor 3\n",
    "        \n",
    "    def dynamics(self, t, x, u):\n",
    "        H1, xA1, xB1, T1, H2, xA2, xB2, T2, H3, xA3, xB3, T3 = x\n",
    "        Q1, Q2, Q3, Ff1, Ff2, FR = u\n",
    "        \n",
    "        # Assuming some arbitrary values for enthalpy changes\n",
    "        delta_H_r1 = -50\n",
    "        delta_H_r2 = -60\n",
    "        delta_H_r3 = -70\n",
    "        \n",
    "        # Reactor 1\n",
    "        r1 = self.k1 * (xA1 * xB1)**0.5\n",
    "        dH1dt = (self.F0 + FR - Ff1 - H1 * Q1) / self.V1\n",
    "        dxA1dt = (self.F0 * xA1 + FR * 0 - Ff1 * xA1 - H1 * Q1 * xA1 - r1 * self.V1) / (self.V1 * H1)\n",
    "        dxB1dt = (self.F0 * xB1 + FR * 0 - Ff1 * xB1 - H1 * Q1 * xB1 - r1 * self.V1) / (self.V1 * H1)\n",
    "        dT1dt = (self.F0 * T1 + FR * 298.15 - Ff1 * T1 - H1 * Q1 * T1 + (-delta_H_r1) * r1 * self.V1) / (self.V1 * H1)\n",
    "        \n",
    "        # Reactor 2\n",
    "        r2 = self.k2 * (xA2 * xB2)**0.5\n",
    "        dH2dt = (H1 * Q1 - Ff2 - H2 * Q2) / self.V2\n",
    "        dxA2dt = (H1 * Q1 * xA1 - Ff2 * xA2 - H2 * Q2 * xA2 - r2 * self.V2) / (self.V2 * H2)\n",
    "        dxB2dt = (H1 * Q1 * xB1 - Ff2 * xB2 - H2 * Q2 * xB2 - r2 * self.V2) / (self.V2 * H2)\n",
    "        dT2dt = (H1 * Q1 * T1 - Ff2 * T2 - H2 * Q2 * T2 + (-delta_H_r2) * r2 * self.V2) / (self.V2 * H2)\n",
    "        \n",
    "        # Reactor 3\n",
    "        r3 = self.k3 * (xA3 * xB3)**0.5\n",
    "        dH3dt = (H2 * Q2 - self.F0 - FR - H3 * Q3) / self.V3\n",
    "        dxA3dt = (H2 * Q2 * xA2 - self.F0 * xA3 - FR * 0 - H3 * Q3 * xA3 - r3 * self.V3) / (self.V3 * H3)\n",
    "        dxB3dt = (H2 * Q2 * xB2 - self.F0 * xB3 - FR * 0 - H3 * Q3 * xB3 - r3 * self.V3) / (self.V3 * H3)\n",
    "        dT3dt = (H2 * Q2 * T2 - self.F0 * T3 - FR * 298.15 - H3 * Q3 * T3 + (-delta_H_r3) * r3 * self.V3) / (self.V3 * H3)\n",
    "        \n",
    "        return [dH1dt, dxA1dt, dxB1dt, dT1dt, dH2dt, dxA2dt, dxB2dt, dT2dt, dH3dt, dxA3dt, dxB3dt, dT3dt]\n",
    "    \n",
    "    def simulate(self, t_span, x0, u):\n",
    "        sol = solve_ivp(self.dynamics, t_span, x0, args=(u,))\n",
    "        return sol.t, sol.y\n",
    "    \n",
    "    def plot_results(self, t, x):\n",
    "        fig, axes = plt.subplots(4, 3, figsize=(15, 10))\n",
    "        state_names = ['H', 'xA', 'xB', 'T']\n",
    "        reactor_numbers = ['1', '2', '3']\n",
    "\n",
    "        for i in range(4):  # Iterate over states\n",
    "            for j in range(3):  # Iterate over reactors\n",
    "                state_idx = i * 3 + j\n",
    "                axes[i, j].plot(t, x[state_idx], label=f'Reactor {reactor_numbers[j]}')\n",
    "                axes[i, j].set_xlabel('Time')\n",
    "                axes[i, j].set_ylabel(f'{state_names[i]}{reactor_numbers[j]}')\n",
    "                axes[i, j].legend()\n",
    "\n",
    "        plt.tight_layout()\n",
    "        plt.show()\n",
    "\n",
    "# Example usage\n",
    "k1 = 0.1\n",
    "k2 = 0.2\n",
    "k3 = 0.3\n",
    "F0 = 10.0\n",
    "V1 = 100.0\n",
    "V2 = 150.0\n",
    "V3 = 200.0\n",
    "\n",
    "reactor_system = ReactorsInSeries_(k1, k2, k3, F0, V1, V2, V3)\n",
    "\n",
    "t_span = [0, 30]  # Time span for simulation\n",
    "x0 = [1.0, 0.5, 0.5, 350.0, 1.0, 0.5, 0.5, 350.0, 1.0, 0.5, 0.5, 350.0]  # Initial conditions for states\n",
    "u = [1.0, 2.0, 1.5, 0.5, 0.6, 0.8]  # Control inputs\n",
    "\n",
    "t, x = reactor_system.simulate(t_span, x0, u)\n",
    "# reactor_system.plot_results(t, x)\n",
    "# reference = np.copy(x)\n",
    "reference = []\n",
    "for i in range(x.shape[0]):\n",
    "    reference.append(np.interp(np.linspace(0,t[-1], 200), t, np.copy(x[i])))\n",
    "reference = np.array(reference)\n"
   ]
  },
  {
   "cell_type": "code",
   "execution_count": 2,
   "metadata": {},
   "outputs": [],
   "source": [
    "import matplotlib.pyplot as plt"
   ]
  },
  {
   "cell_type": "code",
   "execution_count": 3,
   "metadata": {},
   "outputs": [],
   "source": [
    "import random\n",
    "from collections import deque\n",
    "\n",
    "# Define the memory buffer to store experience tuples\n",
    "class ReplayBuffer():\n",
    "    def __init__(self, buffer_size):\n",
    "        self.buffer = deque(maxlen=buffer_size)\n",
    "\n",
    "    def push(self, experience):\n",
    "        self.buffer.append(experience)\n",
    "\n",
    "    def sample(self, batch_size):\n",
    "        sampled_experiences = zip(*random.sample(self.buffer, batch_size))\n",
    "        return sampled_experiences\n",
    "\n",
    "    def __len__(self):\n",
    "        return len(self.buffer)"
   ]
  },
  {
   "cell_type": "code",
   "execution_count": 4,
   "metadata": {},
   "outputs": [],
   "source": [
    "import numpy as np\n",
    "# from scipy.integrate import solve_ivp\n",
    "import matplotlib.pyplot as plt\n",
    "from control import Linear_MPC_Controller, ReactorsInSeries\n",
    "# Example usage\n",
    "k1 = 0.1\n",
    "k2 = 0.2\n",
    "k3 = 0.3\n",
    "F0 = 10.0\n",
    "V1 = 100.0\n",
    "V2 = 150.0\n",
    "V3 = 200.0\n",
    "\n",
    "reactor_system = ReactorsInSeries(k1, k2, k3, F0, V1, V2, V3)\n",
    "\n",
    "t_span = [0, 100]  # Time span for simulation\n",
    "x0 = [1.0, 0.5, 0.5, 350.0, 1.0, 0.5, 0.5, 350.0, 1.0, 0.5, 0.5, 350.0]  # Initial conditions for states\n",
    "u = [1.0, 2.0, 1.5, 0.5, 0.6, 0.8]  # Control inputs\n",
    "\n",
    "# t, x = reactor_system.simulate(t_span, x0, u)\n",
    "# reactor_system.plot_results(t, x)\n"
   ]
  },
  {
   "cell_type": "code",
   "execution_count": null,
   "metadata": {},
   "outputs": [],
   "source": [
    "import torch\n",
    "import torch.nn as nn\n",
    "import torch.nn.functional as F\n",
    "import torch.optim as optim\n",
    "device = 'cuda:0'\n",
    "class MLP_network(nn.Module):\n",
    "    def __init__(self, in_dim, hidem_dims = [32], out_dim = 1):\n",
    "        super().__init__()\n",
    "        self.fc1 = nn.Linear(in_dim, hidem_dims[0]).to(torch.float64).to(device)\n",
    "        self.fc2 = nn.Linear(hidem_dims[0], hidem_dims[1]).to(torch.float64).to(device)\n",
    "        self.fc3 = nn.Linear(hidem_dims[1], out_dim).to(torch.float64).to(device)\n",
    "\n",
    "    def forward(self, x):\n",
    "        x = F.relu(self.fc1(x))\n",
    "        x = F.relu(self.fc2(x))\n",
    "        x = self.fc3(x)\n",
    "        return x\n",
    "\n",
    "mlp = MLP_network(12+6, [16, 8], 12).to(torch.float64).to(device)\n",
    "optimizer = optim.Adam(params=mlp.parameters(), lr=0.001)"
   ]
  },
  {
   "cell_type": "code",
   "execution_count": null,
   "metadata": {},
   "outputs": [],
   "source": [
    "# System parameters \n",
    "M = 1 #kg\n",
    "g = 9.81 \n",
    "L = 1 #m\n",
    "I = 0.5\n",
    "J = 0.008\n",
    "k = 0.3"
   ]
  },
  {
   "cell_type": "code",
   "execution_count": null,
   "metadata": {},
   "outputs": [],
   "source": [
    "# Define system ODE: dx/dt = f(x,u)\n",
    "#x = [q1, q2, q1_dot, q2_dot]\n",
    "import numpy as np\n",
    "\n",
    "def sys_ode(x,u):\n",
    "\n",
    "    dx_1 = x[0][2] \n",
    "    dx_2 = x[0][3]\n",
    "    dx_3 = -M*g*L*np.sin(x[0][0])/I - k/I * (x[0][0]-x[0][1])\n",
    "    dx_4 = -k/J * (x[0][1]-x[0][0]) + 1/J * u \n",
    "    dx = np.array([dx_1, dx_2, dx_3, dx_4[0,0]]).reshape([1,-1])\n",
    "    \n",
    "    return dx"
   ]
  },
  {
   "cell_type": "code",
   "execution_count": null,
   "metadata": {},
   "outputs": [],
   "source": [
    "class Single_Link_Flexible_Joint:\n",
    "    def __init__(self, dt = 0.001):\n",
    "        self.Ac = -20*np.eye(4)\n",
    "        self.dt = dt\n",
    "        self.t = np.linspace(0, 10, int((10-0)/dt))\n",
    "        self.xd = np.array([[.2*np.sin(4*np.pi*self.t/3)], [np.sin(4*np.pi*(self.t)/3)], [np.sin(4*np.pi*self.t/3)], [2*np.cos(4*np.pi*(self.t)/3)]]).T\n",
    "        self.x = np.array([[.1],[.2],[.3],[.4]]).T\n",
    "    def step(self, u):\n",
    "        self.x_dot = sys_ode(self.x, u)\n",
    "        self.x += self.x_dot * self.dt"
   ]
  },
  {
   "cell_type": "code",
   "execution_count": 6,
   "metadata": {},
   "outputs": [],
   "source": [
    "\n",
    "controller = Linear_MPC_Controller()\n",
    "plant = Single_Link_Flexible_Joint()\n"
   ]
  },
  {
   "cell_type": "code",
   "execution_count": 7,
   "metadata": {},
   "outputs": [
    {
     "name": "stderr",
     "output_type": "stream",
     "text": [
      "d:\\Master\\CMVS\\CI\\MPC_RNN\\Again\\Code\\control.py:152: RuntimeWarning: invalid value encountered in scalar power\n",
      "  r2 = self.k2 * (xA2 * xB2)**0.5\n",
      "d:\\Master\\CMVS\\CI\\MPC_RNN\\Again\\Code\\control.py:159: RuntimeWarning: invalid value encountered in scalar power\n",
      "  r3 = self.k3 * (xA3 * xB3)**0.5\n",
      "d:\\Master\\CMVS\\CI\\MPC_RNN\\Again\\Code\\control.py:145: RuntimeWarning: invalid value encountered in scalar power\n",
      "  r1 = self.k1 * (xA1 * xB1)**0.5\n"
     ]
    },
    {
     "name": "stdout",
     "output_type": "stream",
     "text": [
      "nan\n",
      "nan\n",
      "nan\n",
      "nan\n",
      "nan\n",
      "nan\n",
      "nan\n",
      "nan\n",
      "nan\n",
      "nan\n",
      "nan\n",
      "nan\n",
      "nan\n",
      "nan\n",
      "nan\n",
      "nan\n",
      "nan\n",
      "nan\n",
      "nan\n",
      "nan\n",
      "nan\n",
      "nan\n",
      "nan\n",
      "nan\n",
      "nan\n",
      "nan\n",
      "nan\n",
      "nan\n",
      "nan\n",
      "nan\n",
      "nan\n",
      "nan\n",
      "nan\n",
      "nan\n",
      "nan\n",
      "nan\n",
      "nan\n",
      "nan\n",
      "nan\n",
      "nan\n",
      "nan\n",
      "nan\n",
      "nan\n",
      "nan\n",
      "nan\n",
      "nan\n",
      "nan\n",
      "nan\n",
      "nan\n",
      "nan\n",
      "nan\n",
      "nan\n",
      "nan\n",
      "nan\n",
      "nan\n",
      "nan\n",
      "nan\n",
      "nan\n",
      "nan\n",
      "nan\n",
      "nan\n",
      "nan\n",
      "nan\n",
      "nan\n",
      "nan\n",
      "nan\n",
      "nan\n",
      "nan\n",
      "nan\n",
      "nan\n",
      "nan\n",
      "nan\n",
      "nan\n",
      "nan\n",
      "nan\n",
      "nan\n",
      "nan\n",
      "nan\n",
      "nan\n",
      "nan\n",
      "nan\n",
      "nan\n",
      "nan\n",
      "nan\n",
      "nan\n",
      "nan\n",
      "nan\n",
      "nan\n",
      "nan\n",
      "nan\n",
      "nan\n",
      "nan\n",
      "nan\n",
      "nan\n",
      "nan\n",
      "nan\n",
      "nan\n",
      "nan\n",
      "nan\n",
      "nan\n",
      "nan\n",
      "nan\n",
      "nan\n",
      "nan\n",
      "nan\n",
      "nan\n",
      "nan\n",
      "nan\n",
      "nan\n",
      "nan\n",
      "nan\n",
      "nan\n",
      "nan\n",
      "nan\n",
      "nan\n",
      "nan\n",
      "nan\n",
      "nan\n",
      "nan\n",
      "nan\n",
      "nan\n",
      "nan\n",
      "nan\n",
      "nan\n",
      "nan\n",
      "nan\n",
      "nan\n",
      "nan\n",
      "nan\n",
      "nan\n",
      "nan\n",
      "nan\n",
      "nan\n",
      "nan\n",
      "nan\n",
      "nan\n",
      "nan\n",
      "nan\n",
      "nan\n",
      "nan\n",
      "nan\n",
      "nan\n",
      "nan\n",
      "nan\n",
      "nan\n",
      "nan\n",
      "nan\n",
      "nan\n",
      "nan\n",
      "nan\n",
      "nan\n",
      "nan\n",
      "nan\n",
      "nan\n",
      "nan\n",
      "nan\n",
      "nan\n",
      "nan\n",
      "nan\n",
      "nan\n",
      "nan\n",
      "nan\n",
      "nan\n",
      "nan\n",
      "nan\n",
      "nan\n",
      "nan\n",
      "nan\n",
      "nan\n",
      "nan\n",
      "nan\n",
      "nan\n",
      "nan\n",
      "nan\n",
      "nan\n",
      "nan\n",
      "nan\n",
      "nan\n",
      "nan\n",
      "nan\n",
      "nan\n",
      "nan\n",
      "nan\n",
      "nan\n",
      "nan\n",
      "nan\n",
      "nan\n",
      "nan\n",
      "nan\n",
      "nan\n"
     ]
    }
   ],
   "source": [
    "import time\n",
    "MPC_HORIZON = 10\n",
    "buffer = ReplayBuffer(1000)\n",
    "batch_size_max = 32\n",
    "history = {'loss':[], 'u':[]}\n",
    "controller.flag = 1\n",
    "u = np.array([1.0, 2.0, 1.5, 0.5, 0.6, 0.8]).reshape([1,-1])\n",
    "old_state = plant.x\n",
    "repeat_num = 1#200\n",
    "for i in range(reference.shape[1] - MPC_HORIZON):\n",
    "    # t1=time.time()\n",
    "    state_hat = mlp.forward(torch.tensor(np.concatenate((old_state, u.reshape([1,-1])), 1)).to(torch.float64).to(device)).detach().cpu().numpy()\n",
    "    \n",
    "    old_state = plant.x\n",
    "    ##\n",
    "    u = controller.optimize(state_hat, reference[:, i:i+MPC_HORIZON].T)\n",
    "    history['u'].append(u)\n",
    "    # plant.dynamics(u)\n",
    "    plant.step(u)\n",
    "\n",
    "    #### Observer start\n",
    "    new_state = plant.x\n",
    "    history['loss'].append(np.mean((state_hat-new_state)**2))\n",
    "    \n",
    "    # if controller.history['loss'][-1] < 5:\n",
    "    #     i += 1\n",
    "    if len(buffer) > 1:#batch_size:\n",
    "        batch_size = min(len(buffer), batch_size_max)\n",
    "        for i in range(repeat_num):\n",
    "            a, b = buffer.sample(batch_size)\n",
    "            a = torch.tensor(np.stack(a).squeeze(1)).to(torch.float64).to(device)\n",
    "            b = torch.tensor(np.stack(b).squeeze(1)).to(torch.float64).to(device)\n",
    "            output = mlp(a)\n",
    "            loss = F.mse_loss(output, b)\n",
    "            optimizer.zero_grad()\n",
    "            loss.backward()\n",
    "            optimizer.step()\n",
    "            history['loss'].append(loss.detach().cpu().numpy().reshape([1])[0])\n",
    "            if history['loss'][-1]<0.01:\n",
    "                repeat_num = 1\n",
    "    new_state = plant.x\n",
    "    buffer.push([np.concatenate((old_state, u), 1), new_state])"
   ]
  },
  {
   "cell_type": "code",
   "execution_count": 8,
   "metadata": {},
   "outputs": [
    {
     "data": {
      "text/plain": [
       "array([[0.001, 0.001, 0.001, 0.001, 0.001, 0.001]])"
      ]
     },
     "execution_count": 8,
     "metadata": {},
     "output_type": "execute_result"
    }
   ],
   "source": [
    "u"
   ]
  },
  {
   "cell_type": "markdown",
   "metadata": {},
   "source": [
    "### Loss history of Observer"
   ]
  },
  {
   "cell_type": "code",
   "execution_count": 9,
   "metadata": {},
   "outputs": [
    {
     "data": {
      "text/plain": [
       "[<matplotlib.lines.Line2D at 0x1aa8fcd5db0>]"
      ]
     },
     "execution_count": 9,
     "metadata": {},
     "output_type": "execute_result"
    },
    {
     "data": {
      "image/png": "[encoded data removed]",
      "text/plain": [
       "<Figure size 640x480 with 1 Axes>"
      ]
     },
     "metadata": {},
     "output_type": "display_data"
    }
   ],
   "source": [
    "plt.plot(history['loss'])"
   ]
  },
  {
   "cell_type": "markdown",
   "metadata": {},
   "source": [
    "### Loss history of Recurrent NN"
   ]
  },
  {
   "cell_type": "code",
   "execution_count": 10,
   "metadata": {},
   "outputs": [
    {
     "data": {
      "text/plain": [
       "[<matplotlib.lines.Line2D at 0x1aa99493700>]"
      ]
     },
     "execution_count": 10,
     "metadata": {},
     "output_type": "execute_result"
    },
    {
     "data": {
      "image/png": "[encoded data removed]",
      "text/plain": [
       "<Figure size 640x480 with 1 Axes>"
      ]
     },
     "metadata": {},
     "output_type": "display_data"
    }
   ],
   "source": [
    "plt.plot(controller.history['loss'])"
   ]
  },
  {
   "cell_type": "code",
   "execution_count": 14,
   "metadata": {},
   "outputs": [],
   "source": [
    "history['u'] = np.array(history['u'])[:,0,:].T"
   ]
  },
  {
   "cell_type": "code",
   "execution_count": 16,
   "metadata": {},
   "outputs": [
    {
     "data": {
      "text/plain": [
       "[<matplotlib.lines.Line2D at 0x1aa9980dd20>,\n",
       " <matplotlib.lines.Line2D at 0x1aa9980dd50>,\n",
       " <matplotlib.lines.Line2D at 0x1aa9980de40>,\n",
       " <matplotlib.lines.Line2D at 0x1aa9980df30>,\n",
       " <matplotlib.lines.Line2D at 0x1aa9980e020>,\n",
       " <matplotlib.lines.Line2D at 0x1aa9980e110>]"
      ]
     },
     "execution_count": 16,
     "metadata": {},
     "output_type": "execute_result"
    },
    {
     "data": {
      "image/png": "[encoded data removed]",
      "text/plain": [
       "<Figure size 640x480 with 1 Axes>"
      ]
     },
     "metadata": {},
     "output_type": "display_data"
    }
   ],
   "source": [
    "plt.plot(history['u'].T)"
   ]
  },
  {
   "cell_type": "code",
   "execution_count": null,
   "metadata": {},
   "outputs": [],
   "source": []
  }
 ],
 "metadata": {
  "kernelspec": {
   "display_name": "py310",
   "language": "python",
   "name": "python3"
  },
  "language_info": {
   "codemirror_mode": {
    "name": "ipython",
    "version": 3
   },
   "file_extension": ".py",
   "mimetype": "text/x-python",
   "name": "python",
   "nbconvert_exporter": "python",
   "pygments_lexer": "ipython3",
   "version": "3.12.0"
  }
 },
 "nbformat": 4,
 "nbformat_minor": 2
}
